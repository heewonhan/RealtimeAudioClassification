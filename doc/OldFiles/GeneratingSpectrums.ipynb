{
 "cells": [
  {
   "cell_type": "code",
   "execution_count": 2,
   "metadata": {},
   "outputs": [],
   "source": [
    "import csv\n",
    "import torch\n",
    "import torch.nn as nn\n",
    "import torch.nn.functional as F\n",
    "import torch.optim as optim\n",
    "from torchvision import datasets, transforms\n",
    "from torch.utils.data import Dataset\n",
    "import pandas as pd\n",
    "import numpy as np\n",
    "import librosa\n",
    "import librosa.display\n",
    "import wave\n",
    "import os\n",
    "import matplotlib.pyplot as plt"
   ]
  },
  {
   "cell_type": "code",
   "execution_count": 3,
   "metadata": {},
   "outputs": [],
   "source": [
    "TRAIN_PATH= './data/urban-sound-classification/train/'\n",
    "TEST_PATH= './data/urban-sound-classification/test/'\n",
    "\n",
    "TRAIN_CSV = TRAIN_PATH+'train.csv'\n",
    "TRAIN_FOLDER = TRAIN_PATH+'Train/'\n",
    "\n",
    "TEST_CSV = TEST_PATH+'test.csv'\n",
    "TEST_FOLDER = TEST_PATH+'Test/'"
   ]
  },
  {
   "cell_type": "code",
   "execution_count": 4,
   "metadata": {},
   "outputs": [],
   "source": [
    "OUTPUT_FOLDER_CLASSES = './data/urban-sound-classification/spectrums224/'"
   ]
  },
  {
   "cell_type": "code",
   "execution_count": 5,
   "metadata": {},
   "outputs": [],
   "source": [
    "Labels=[]\n",
    "Training_File_Dict={}\n",
    "with open(TRAIN_CSV) as f:\n",
    "    readCSV = csv.reader(f, delimiter=',')\n",
    "    for row  in readCSV:\n",
    "        if(not row[0]=='ID'):\n",
    "            Training_File_Dict[row[0]]=row[1]\n",
    "            if(not row[1] in Labels):\n",
    "                Labels.append(row[1])"
   ]
  },
  {
   "cell_type": "code",
   "execution_count": 6,
   "metadata": {},
   "outputs": [],
   "source": [
    "\n",
    "PathDictrionary={}\n",
    "for i in Labels:\n",
    "    LabeldDirectory = OUTPUT_FOLDER_CLASSES+\"train/\"+i+\"/\"\n",
    "    PathDictrionary[i]=LabeldDirectory\n",
    "    if not os.path.exists(LabeldDirectory):\n",
    "        os.makedirs(LabeldDirectory)"
   ]
  },
  {
   "cell_type": "code",
   "execution_count": 9,
   "metadata": {},
   "outputs": [
    {
     "name": "stdout",
     "output_type": "stream",
     "text": [
      "5438\n",
      "Done generating Spectra!\n"
     ]
    }
   ],
   "source": [
    "\n",
    "\n",
    "def log_mel_spec_tfm(fname, src_path, dst_path):\n",
    "    \n",
    "    x ,sample_rate = librosa.load(os.path.join(src_path,fname))\n",
    "    np.save('./test.npy', x)\n",
    "    \n",
    "   # x = wave.open(os.path.join(src_path,fname))\n",
    "    #x, sample_rate = read_file(fname, src_path)\n",
    "   # sample_rate = x.getframerate()\n",
    "    n_fft = 1024\n",
    "    hop_length = 256\n",
    "    n_mels = 224\n",
    "    fmin = 20\n",
    "    fmax = sample_rate / 2 \n",
    "    \n",
    "    mel_spec_power = librosa.feature.melspectrogram(x, sr=sample_rate, n_fft=n_fft, \n",
    "                                                    hop_length=hop_length, \n",
    "                                                    n_mels=n_mels, power=2.0,\n",
    "                                                   fmin=fmin,fmax=fmax)\n",
    "    mel_spec_db = librosa.power_to_db(mel_spec_power, ref=np.max) \n",
    "    #print(\"Befor\",np.shape(mel_spec_db))\n",
    "    width = np.shape(mel_spec_db)[1]\n",
    "    #print(width,int(np.ceil(width/n_mels)))\n",
    "    if width >= n_mels:\n",
    "        for i in range(0,int(np.ceil(width/n_mels))):\n",
    "            out= np.zeros(shape=(224,224))\n",
    "            if((i+1)*n_mels>width):\n",
    "                out = mel_spec_db[:,width-n_mels:]\n",
    "            else:\n",
    "                out = mel_spec_db[:,(i)*n_mels:(i+1)*n_mels]\n",
    "            plt.imsave(os.path.join(dst_path,(fname.replace(\".wav\",'-') +str(i)+ '.png')), out) \n",
    "#TEST_PATH_FILE=\"/Volumes/Macintosh HD/Users/dg/Music/iTunes/iTunes Media/Music/Celldweller/End of an Empire (Deluxe Edition)\"\n",
    "#filename=\"1-01 End of an Empire.m4a\"\n",
    "#log_mel_spec_tfm(filename,TEST_PATH_FILE,\"./testDir/\")\n",
    "#return;\n",
    "\n",
    "counter = 0\n",
    "length = len(os.listdir(TRAIN_FOLDER))\n",
    "print (length)\n",
    "for filename in os.listdir(TRAIN_FOLDER):\n",
    "    if filename.endswith(\".wav\"):\n",
    "        #print(filename)\n",
    "        #print(PathDictrionary[Training_File_Dict[filename.replace(\".wav\",\"\")]])\n",
    "        log_mel_spec_tfm(filename,TRAIN_FOLDER,PathDictrionary[Training_File_Dict[filename.replace(\".wav\",\"\")]])\n",
    "        counter +=1\n",
    "        \n",
    "        #print(counter%int(round(length/100)))\n",
    "        if(counter%int(round(length/100))==0):\n",
    "            print(\"{:f}\".format((counter/length)*100),counter,filename)\n",
    "    else:\n",
    "        continue\n",
    "print(\"Done generating Spectra!\");"
   ]
  },
  {
   "cell_type": "code",
   "execution_count": null,
   "metadata": {},
   "outputs": [],
   "source": [
    "\n",
    "\n",
    "out= np.zeros(shape=(224,224))"
   ]
  },
  {
   "cell_type": "code",
   "execution_count": null,
   "metadata": {},
   "outputs": [],
   "source": [
    "for i in range(0,2):\n",
    "    print(i)"
   ]
  },
  {
   "cell_type": "code",
   "execution_count": null,
   "metadata": {},
   "outputs": [],
   "source": []
  },
  {
   "cell_type": "code",
   "execution_count": null,
   "metadata": {},
   "outputs": [],
   "source": []
  },
  {
   "cell_type": "code",
   "execution_count": null,
   "metadata": {},
   "outputs": [],
   "source": []
  }
 ],
 "metadata": {
  "kernelspec": {
   "display_name": "Python 3",
   "language": "python",
   "name": "python3"
  },
  "language_info": {
   "codemirror_mode": {
    "name": "ipython",
    "version": 3
   },
   "file_extension": ".py",
   "mimetype": "text/x-python",
   "name": "python",
   "nbconvert_exporter": "python",
   "pygments_lexer": "ipython3",
   "version": "3.7.2"
  }
 },
 "nbformat": 4,
 "nbformat_minor": 2
}
