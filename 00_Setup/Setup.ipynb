{
 "cells": [
  {
   "cell_type": "markdown",
   "metadata": {},
   "source": [
    "## Install Libraries\n",
    "\n",
    "We will install the software libraries necessary for this week's tutorials, and test them to make sure they work.\n",
    "\n",
    "You can try to install all  required componenets by running the comand below.\n",
    "\n",
    "If that does not work you can slo use command-line or terminal. Have alook at the linked page for more detail. [the linked wiki page will help you](https://github.com/DavidGoedicke/RealtimeAudioClassification/wiki/Command-lines-and-terminals-a-quick-introduction.md)\n",
    "\n",
    "The libraries that we will use.\n",
    "\n",
    "[NumPy](https://en.wikipedia.org/wiki/NumPy) (Python support for large, multi-dimensional arrays and matrices ).\n",
    "\n",
    "[MatplotLib](https://matplotlib.org) (Python 2D plotting library).\n",
    "\n",
    "[pyTorch](https://pytorch.org/get-started/locally/) (Python Machine Learning Library).\n",
    "\n",
    "[sklearn](https://scikit-learn.org/stable/) (SciKit Machine Learning library).\n",
    "\n",
    "[librosa](https://librosa.github.io/librosa/) (Music and Audio analysis library).\n",
    "\n",
    "[PyAudio](https://people.csail.mit.edu/hubert/pyaudio/) (Python bindings for PortAudio, the cross-platform audio I/O library).\n"
   ]
  },
  {
   "cell_type": "code",
   "execution_count": 1,
   "metadata": {
    "ExecuteTime": {
     "end_time": "2020-07-25T23:31:05.053465Z",
     "start_time": "2020-07-25T23:31:03.809821Z"
    },
    "scrolled": true
   },
   "outputs": [
    {
     "name": "stdout",
     "output_type": "stream",
     "text": [
      "Requirement already satisfied: numpy in /Users/heewonhan/opt/anaconda3/lib/python3.8/site-packages (1.18.5)\n",
      "Requirement already satisfied: matplotlib in /Users/heewonhan/opt/anaconda3/lib/python3.8/site-packages (3.2.2)\n",
      "Requirement already satisfied: torch in /Users/heewonhan/opt/anaconda3/lib/python3.8/site-packages (1.6.0)\n",
      "Requirement already satisfied: torchvision in /Users/heewonhan/opt/anaconda3/lib/python3.8/site-packages (0.7.0)\n",
      "Requirement already satisfied: scikit-learn in /Users/heewonhan/opt/anaconda3/lib/python3.8/site-packages (0.23.1)\n",
      "Requirement already satisfied: librosa in /Users/heewonhan/opt/anaconda3/lib/python3.8/site-packages (0.8.0)\n",
      "Requirement already satisfied: pyaudio in /Users/heewonhan/opt/anaconda3/lib/python3.8/site-packages (0.2.11)\n",
      "Requirement already satisfied: numpy_ringbuffer in /Users/heewonhan/opt/anaconda3/lib/python3.8/site-packages (0.2.1)\n",
      "Requirement already satisfied: ipywidgets in /Users/heewonhan/opt/anaconda3/lib/python3.8/site-packages (7.5.1)\n",
      "Requirement already satisfied: python-dateutil>=2.1 in /Users/heewonhan/opt/anaconda3/lib/python3.8/site-packages (from matplotlib) (2.8.1)\n",
      "Requirement already satisfied: cycler>=0.10 in /Users/heewonhan/opt/anaconda3/lib/python3.8/site-packages (from matplotlib) (0.10.0)\n",
      "Requirement already satisfied: kiwisolver>=1.0.1 in /Users/heewonhan/opt/anaconda3/lib/python3.8/site-packages (from matplotlib) (1.2.0)\n",
      "Requirement already satisfied: pyparsing!=2.0.4,!=2.1.2,!=2.1.6,>=2.0.1 in /Users/heewonhan/opt/anaconda3/lib/python3.8/site-packages (from matplotlib) (2.4.7)\n",
      "Requirement already satisfied: future in /Users/heewonhan/opt/anaconda3/lib/python3.8/site-packages (from torch) (0.18.2)\n",
      "Requirement already satisfied: pillow>=4.1.1 in /Users/heewonhan/opt/anaconda3/lib/python3.8/site-packages (from torchvision) (7.2.0)\n",
      "Requirement already satisfied: joblib>=0.11 in /Users/heewonhan/opt/anaconda3/lib/python3.8/site-packages (from scikit-learn) (0.16.0)\n",
      "Requirement already satisfied: scipy>=0.19.1 in /Users/heewonhan/opt/anaconda3/lib/python3.8/site-packages (from scikit-learn) (1.5.0)\n",
      "Requirement already satisfied: threadpoolctl>=2.0.0 in /Users/heewonhan/opt/anaconda3/lib/python3.8/site-packages (from scikit-learn) (2.1.0)\n",
      "Requirement already satisfied: pooch>=1.0 in /Users/heewonhan/opt/anaconda3/lib/python3.8/site-packages (from librosa) (1.1.1)\n",
      "Requirement already satisfied: decorator>=3.0.0 in /Users/heewonhan/opt/anaconda3/lib/python3.8/site-packages (from librosa) (4.4.2)\n",
      "Requirement already satisfied: resampy>=0.2.2 in /Users/heewonhan/opt/anaconda3/lib/python3.8/site-packages (from librosa) (0.2.2)\n",
      "Requirement already satisfied: numba>=0.43.0 in /Users/heewonhan/opt/anaconda3/lib/python3.8/site-packages (from librosa) (0.50.1)\n",
      "Requirement already satisfied: soundfile>=0.9.0 in /Users/heewonhan/opt/anaconda3/lib/python3.8/site-packages (from librosa) (0.10.3.post1)\n",
      "Requirement already satisfied: audioread>=2.0.0 in /Users/heewonhan/opt/anaconda3/lib/python3.8/site-packages (from librosa) (2.1.8)\n",
      "Requirement already satisfied: nbformat>=4.2.0 in /Users/heewonhan/opt/anaconda3/lib/python3.8/site-packages (from ipywidgets) (5.0.7)\n",
      "Requirement already satisfied: traitlets>=4.3.1 in /Users/heewonhan/opt/anaconda3/lib/python3.8/site-packages (from ipywidgets) (4.3.3)\n",
      "Requirement already satisfied: ipykernel>=4.5.1 in /Users/heewonhan/opt/anaconda3/lib/python3.8/site-packages (from ipywidgets) (5.3.2)\n",
      "Requirement already satisfied: widgetsnbextension~=3.5.0 in /Users/heewonhan/opt/anaconda3/lib/python3.8/site-packages (from ipywidgets) (3.5.1)\n",
      "Requirement already satisfied: ipython>=4.0.0; python_version >= \"3.3\" in /Users/heewonhan/opt/anaconda3/lib/python3.8/site-packages (from ipywidgets) (7.16.1)\n",
      "Requirement already satisfied: six>=1.5 in /Users/heewonhan/opt/anaconda3/lib/python3.8/site-packages (from python-dateutil>=2.1->matplotlib) (1.15.0)\n",
      "Requirement already satisfied: packaging in /Users/heewonhan/opt/anaconda3/lib/python3.8/site-packages (from pooch>=1.0->librosa) (20.4)\n",
      "Requirement already satisfied: appdirs in /Users/heewonhan/opt/anaconda3/lib/python3.8/site-packages (from pooch>=1.0->librosa) (1.4.4)\n",
      "Requirement already satisfied: requests in /Users/heewonhan/opt/anaconda3/lib/python3.8/site-packages (from pooch>=1.0->librosa) (2.24.0)\n",
      "Requirement already satisfied: llvmlite<0.34,>=0.33.0.dev0 in /Users/heewonhan/opt/anaconda3/lib/python3.8/site-packages (from numba>=0.43.0->librosa) (0.33.0+1.g022ab0f)\n",
      "Requirement already satisfied: setuptools in /Users/heewonhan/opt/anaconda3/lib/python3.8/site-packages (from numba>=0.43.0->librosa) (49.2.0.post20200714)\n",
      "Requirement already satisfied: cffi>=1.0 in /Users/heewonhan/opt/anaconda3/lib/python3.8/site-packages (from soundfile>=0.9.0->librosa) (1.14.0)\n",
      "Requirement already satisfied: ipython-genutils in /Users/heewonhan/opt/anaconda3/lib/python3.8/site-packages (from nbformat>=4.2.0->ipywidgets) (0.2.0)\n",
      "Requirement already satisfied: jupyter-core in /Users/heewonhan/opt/anaconda3/lib/python3.8/site-packages (from nbformat>=4.2.0->ipywidgets) (4.6.3)\n",
      "Requirement already satisfied: jsonschema!=2.5.0,>=2.4 in /Users/heewonhan/opt/anaconda3/lib/python3.8/site-packages (from nbformat>=4.2.0->ipywidgets) (3.2.0)\n",
      "Requirement already satisfied: jupyter-client in /Users/heewonhan/opt/anaconda3/lib/python3.8/site-packages (from ipykernel>=4.5.1->ipywidgets) (6.1.6)\n",
      "Requirement already satisfied: tornado>=4.2 in /Users/heewonhan/opt/anaconda3/lib/python3.8/site-packages (from ipykernel>=4.5.1->ipywidgets) (6.0.4)\n",
      "Requirement already satisfied: appnope; platform_system == \"Darwin\" in /Users/heewonhan/opt/anaconda3/lib/python3.8/site-packages (from ipykernel>=4.5.1->ipywidgets) (0.1.0)\n",
      "Requirement already satisfied: notebook>=4.4.1 in /Users/heewonhan/opt/anaconda3/lib/python3.8/site-packages (from widgetsnbextension~=3.5.0->ipywidgets) (6.0.3)\n",
      "Requirement already satisfied: prompt-toolkit!=3.0.0,!=3.0.1,<3.1.0,>=2.0.0 in /Users/heewonhan/opt/anaconda3/lib/python3.8/site-packages (from ipython>=4.0.0; python_version >= \"3.3\"->ipywidgets) (3.0.5)\n",
      "Requirement already satisfied: pygments in /Users/heewonhan/opt/anaconda3/lib/python3.8/site-packages (from ipython>=4.0.0; python_version >= \"3.3\"->ipywidgets) (2.6.1)\n",
      "Requirement already satisfied: jedi>=0.10 in /Users/heewonhan/opt/anaconda3/lib/python3.8/site-packages (from ipython>=4.0.0; python_version >= \"3.3\"->ipywidgets) (0.17.1)\n",
      "Requirement already satisfied: backcall in /Users/heewonhan/opt/anaconda3/lib/python3.8/site-packages (from ipython>=4.0.0; python_version >= \"3.3\"->ipywidgets) (0.2.0)\n",
      "Requirement already satisfied: pexpect; sys_platform != \"win32\" in /Users/heewonhan/opt/anaconda3/lib/python3.8/site-packages (from ipython>=4.0.0; python_version >= \"3.3\"->ipywidgets) (4.8.0)\n",
      "Requirement already satisfied: pickleshare in /Users/heewonhan/opt/anaconda3/lib/python3.8/site-packages (from ipython>=4.0.0; python_version >= \"3.3\"->ipywidgets) (0.7.5)\n",
      "Requirement already satisfied: chardet<4,>=3.0.2 in /Users/heewonhan/opt/anaconda3/lib/python3.8/site-packages (from requests->pooch>=1.0->librosa) (3.0.4)\n",
      "Requirement already satisfied: certifi>=2017.4.17 in /Users/heewonhan/opt/anaconda3/lib/python3.8/site-packages (from requests->pooch>=1.0->librosa) (2020.6.20)\n",
      "Requirement already satisfied: urllib3!=1.25.0,!=1.25.1,<1.26,>=1.21.1 in /Users/heewonhan/opt/anaconda3/lib/python3.8/site-packages (from requests->pooch>=1.0->librosa) (1.25.9)\n",
      "Requirement already satisfied: idna<3,>=2.5 in /Users/heewonhan/opt/anaconda3/lib/python3.8/site-packages (from requests->pooch>=1.0->librosa) (2.10)\n",
      "Requirement already satisfied: pycparser in /Users/heewonhan/opt/anaconda3/lib/python3.8/site-packages (from cffi>=1.0->soundfile>=0.9.0->librosa) (2.20)\n",
      "Requirement already satisfied: attrs>=17.4.0 in /Users/heewonhan/opt/anaconda3/lib/python3.8/site-packages (from jsonschema!=2.5.0,>=2.4->nbformat>=4.2.0->ipywidgets) (19.3.0)\n",
      "Requirement already satisfied: pyrsistent>=0.14.0 in /Users/heewonhan/opt/anaconda3/lib/python3.8/site-packages (from jsonschema!=2.5.0,>=2.4->nbformat>=4.2.0->ipywidgets) (0.16.0)\n",
      "Requirement already satisfied: pyzmq>=13 in /Users/heewonhan/opt/anaconda3/lib/python3.8/site-packages (from jupyter-client->ipykernel>=4.5.1->ipywidgets) (19.0.1)\n",
      "Requirement already satisfied: Send2Trash in /Users/heewonhan/opt/anaconda3/lib/python3.8/site-packages (from notebook>=4.4.1->widgetsnbextension~=3.5.0->ipywidgets) (1.5.0)\n"
     ]
    },
    {
     "name": "stdout",
     "output_type": "stream",
     "text": [
      "Requirement already satisfied: nbconvert in /Users/heewonhan/opt/anaconda3/lib/python3.8/site-packages (from notebook>=4.4.1->widgetsnbextension~=3.5.0->ipywidgets) (5.6.1)\n",
      "Requirement already satisfied: terminado>=0.8.1 in /Users/heewonhan/opt/anaconda3/lib/python3.8/site-packages (from notebook>=4.4.1->widgetsnbextension~=3.5.0->ipywidgets) (0.8.3)\n",
      "Requirement already satisfied: prometheus-client in /Users/heewonhan/opt/anaconda3/lib/python3.8/site-packages (from notebook>=4.4.1->widgetsnbextension~=3.5.0->ipywidgets) (0.8.0)\n",
      "Requirement already satisfied: jinja2 in /Users/heewonhan/opt/anaconda3/lib/python3.8/site-packages (from notebook>=4.4.1->widgetsnbextension~=3.5.0->ipywidgets) (2.11.2)\n",
      "Requirement already satisfied: wcwidth in /Users/heewonhan/opt/anaconda3/lib/python3.8/site-packages (from prompt-toolkit!=3.0.0,!=3.0.1,<3.1.0,>=2.0.0->ipython>=4.0.0; python_version >= \"3.3\"->ipywidgets) (0.2.5)\n",
      "Requirement already satisfied: parso<0.8.0,>=0.7.0 in /Users/heewonhan/opt/anaconda3/lib/python3.8/site-packages (from jedi>=0.10->ipython>=4.0.0; python_version >= \"3.3\"->ipywidgets) (0.7.0)\n",
      "Requirement already satisfied: ptyprocess>=0.5 in /Users/heewonhan/opt/anaconda3/lib/python3.8/site-packages (from pexpect; sys_platform != \"win32\"->ipython>=4.0.0; python_version >= \"3.3\"->ipywidgets) (0.6.0)\n",
      "Requirement already satisfied: mistune<2,>=0.8.1 in /Users/heewonhan/opt/anaconda3/lib/python3.8/site-packages (from nbconvert->notebook>=4.4.1->widgetsnbextension~=3.5.0->ipywidgets) (0.8.4)\n",
      "Requirement already satisfied: bleach in /Users/heewonhan/opt/anaconda3/lib/python3.8/site-packages (from nbconvert->notebook>=4.4.1->widgetsnbextension~=3.5.0->ipywidgets) (3.1.5)\n",
      "Requirement already satisfied: defusedxml in /Users/heewonhan/opt/anaconda3/lib/python3.8/site-packages (from nbconvert->notebook>=4.4.1->widgetsnbextension~=3.5.0->ipywidgets) (0.6.0)\n",
      "Requirement already satisfied: entrypoints>=0.2.2 in /Users/heewonhan/opt/anaconda3/lib/python3.8/site-packages (from nbconvert->notebook>=4.4.1->widgetsnbextension~=3.5.0->ipywidgets) (0.3)\n",
      "Requirement already satisfied: testpath in /Users/heewonhan/opt/anaconda3/lib/python3.8/site-packages (from nbconvert->notebook>=4.4.1->widgetsnbextension~=3.5.0->ipywidgets) (0.4.4)\n",
      "Requirement already satisfied: pandocfilters>=1.4.1 in /Users/heewonhan/opt/anaconda3/lib/python3.8/site-packages (from nbconvert->notebook>=4.4.1->widgetsnbextension~=3.5.0->ipywidgets) (1.4.2)\n",
      "Requirement already satisfied: MarkupSafe>=0.23 in /Users/heewonhan/opt/anaconda3/lib/python3.8/site-packages (from jinja2->notebook>=4.4.1->widgetsnbextension~=3.5.0->ipywidgets) (1.1.1)\n",
      "Requirement already satisfied: webencodings in /Users/heewonhan/opt/anaconda3/lib/python3.8/site-packages (from bleach->nbconvert->notebook>=4.4.1->widgetsnbextension~=3.5.0->ipywidgets) (0.5.1)\n",
      "Note: you may need to restart the kernel to use updated packages.\n"
     ]
    }
   ],
   "source": [
    "pip install numpy matplotlib torch torchvision scikit-learn librosa pyaudio numpy_ringbuffer ipywidgets"
   ]
  },
  {
   "cell_type": "markdown",
   "metadata": {},
   "source": [
    "## Test setup\n",
    "\n",
    "In the code below, we load (\"import\") the libraries that we just installed above, to make sure that Python can find the libraries. \n"
   ]
  },
  {
   "cell_type": "markdown",
   "metadata": {},
   "source": [
    "If the above code runs without a problem, all libraries have installed and can be loaded. While it does not gurantee that everything will work, this is a very good sign.\n"
   ]
  },
  {
   "cell_type": "code",
   "execution_count": 1,
   "metadata": {
    "ExecuteTime": {
     "end_time": "2020-08-02T19:47:07.952567Z",
     "start_time": "2020-08-02T19:47:06.890917Z"
    }
   },
   "outputs": [
    {
     "name": "stdout",
     "output_type": "stream",
     "text": [
      "-------Found all built-in libraries.-------\n",
      "Found numpy  1.18.5\n",
      "Found matplotlib  3.2.2\n",
      "-------Found all math libraries.-------\n",
      "Found pyaudio  0.2.11\n",
      "Found librosa  0.8.0\n",
      "-------Found all audio libraries.-------\n",
      "Found torch  1.6.0\n",
      "-------Found all machine learning libraries.-------\n"
     ]
    }
   ],
   "source": [
    "import csv\n",
    "import os\n",
    "import wave\n",
    "import time\n",
    "import multiprocessing\n",
    "from threading import Thread\n",
    "import os\n",
    "print(\"-------Found all built-in libraries.-------\")\n",
    "import numpy as np\n",
    "print(\"Found numpy \",np.__version__)\n",
    "import matplotlib\n",
    "print(\"Found matplotlib \",matplotlib.__version__)\n",
    "print(\"-------Found all math libraries.-------\")\n",
    "import pyaudio\n",
    "print(\"Found pyaudio \",pyaudio.__version__)\n",
    "import librosa\n",
    "print(\"Found librosa \",librosa.__version__)\n",
    "print(\"-------Found all audio libraries.-------\")\n",
    "import torch\n",
    "print(\"Found torch \",torch.__version__)\n",
    "from torchvision import datasets, transforms, models\n",
    "from sklearn.metrics import confusion_matrix\n",
    "print(\"-------Found all machine learning libraries.-------\")\n"
   ]
  },
  {
   "cell_type": "code",
   "execution_count": null,
   "metadata": {},
   "outputs": [],
   "source": []
  }
 ],
 "metadata": {
  "kernelspec": {
   "display_name": "Python 3",
   "language": "python",
   "name": "python3"
  },
  "language_info": {
   "codemirror_mode": {
    "name": "ipython",
    "version": 3
   },
   "file_extension": ".py",
   "mimetype": "text/x-python",
   "name": "python",
   "nbconvert_exporter": "python",
   "pygments_lexer": "ipython3",
   "version": "3.8.3"
  },
  "toc": {
   "base_numbering": 1,
   "nav_menu": {},
   "number_sections": true,
   "sideBar": true,
   "skip_h1_title": false,
   "title_cell": "Table of Contents",
   "title_sidebar": "Contents",
   "toc_cell": false,
   "toc_position": {},
   "toc_section_display": true,
   "toc_window_display": false
  }
 },
 "nbformat": 4,
 "nbformat_minor": 2
}
